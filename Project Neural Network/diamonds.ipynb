{
 "cells": [
  {
   "cell_type": "code",
   "execution_count": 1,
   "id": "b83657f8-0fc3-4121-a0b0-96d38e0587ef",
   "metadata": {},
   "outputs": [],
   "source": [
    "# Imports\n",
    "import pandas as pd\n",
    "from path import Path\n",
    "from sklearn.preprocessing import StandardScaler\n",
    "from sklearn.model_selection import train_test_split\n",
    "from sklearn.preprocessing import OrdinalEncoder, StandardScaler\n",
    "from sklearn import preprocessing\n",
    "import tensorflow as tf\n",
    "from tensorflow.keras.layers import Dense\n",
    "from tensorflow.keras.models import Sequential\n",
    "from tensorflow.keras.layers import Input, Dense, Dropout, Activation\n",
    "from tensorflow.keras.models import Model\n",
    "from sklearn.metrics import mean_absolute_error\n",
    "from math import sqrt\n",
    "import tensorflow as tf\n",
    "from tensorflow import keras\n",
    "from tensorflow.keras import layers\n",
    "import seaborn as sns\n",
    "%matplotlib inline"
   ]
  },
  {
   "cell_type": "code",
   "execution_count": 2,
   "id": "a740cc7a-ff11-474a-85b3-8d4275719a3a",
   "metadata": {},
   "outputs": [
    {
     "data": {
      "text/html": [
       "<div>\n",
       "<style scoped>\n",
       "    .dataframe tbody tr th:only-of-type {\n",
       "        vertical-align: middle;\n",
       "    }\n",
       "\n",
       "    .dataframe tbody tr th {\n",
       "        vertical-align: top;\n",
       "    }\n",
       "\n",
       "    .dataframe thead th {\n",
       "        text-align: right;\n",
       "    }\n",
       "</style>\n",
       "<table border=\"1\" class=\"dataframe\">\n",
       "  <thead>\n",
       "    <tr style=\"text-align: right;\">\n",
       "      <th></th>\n",
       "      <th>Unnamed: 0</th>\n",
       "      <th>carat</th>\n",
       "      <th>cut</th>\n",
       "      <th>color</th>\n",
       "      <th>clarity</th>\n",
       "      <th>depth</th>\n",
       "      <th>table</th>\n",
       "      <th>price</th>\n",
       "      <th>x</th>\n",
       "      <th>y</th>\n",
       "      <th>z</th>\n",
       "    </tr>\n",
       "  </thead>\n",
       "  <tbody>\n",
       "    <tr>\n",
       "      <th>0</th>\n",
       "      <td>1</td>\n",
       "      <td>0.23</td>\n",
       "      <td>Ideal</td>\n",
       "      <td>E</td>\n",
       "      <td>SI2</td>\n",
       "      <td>61.5</td>\n",
       "      <td>55.0</td>\n",
       "      <td>326</td>\n",
       "      <td>3.95</td>\n",
       "      <td>3.98</td>\n",
       "      <td>2.43</td>\n",
       "    </tr>\n",
       "    <tr>\n",
       "      <th>1</th>\n",
       "      <td>2</td>\n",
       "      <td>0.21</td>\n",
       "      <td>Premium</td>\n",
       "      <td>E</td>\n",
       "      <td>SI1</td>\n",
       "      <td>59.8</td>\n",
       "      <td>61.0</td>\n",
       "      <td>326</td>\n",
       "      <td>3.89</td>\n",
       "      <td>3.84</td>\n",
       "      <td>2.31</td>\n",
       "    </tr>\n",
       "    <tr>\n",
       "      <th>2</th>\n",
       "      <td>3</td>\n",
       "      <td>0.23</td>\n",
       "      <td>Good</td>\n",
       "      <td>E</td>\n",
       "      <td>VS1</td>\n",
       "      <td>56.9</td>\n",
       "      <td>65.0</td>\n",
       "      <td>327</td>\n",
       "      <td>4.05</td>\n",
       "      <td>4.07</td>\n",
       "      <td>2.31</td>\n",
       "    </tr>\n",
       "    <tr>\n",
       "      <th>3</th>\n",
       "      <td>4</td>\n",
       "      <td>0.29</td>\n",
       "      <td>Premium</td>\n",
       "      <td>I</td>\n",
       "      <td>VS2</td>\n",
       "      <td>62.4</td>\n",
       "      <td>58.0</td>\n",
       "      <td>334</td>\n",
       "      <td>4.20</td>\n",
       "      <td>4.23</td>\n",
       "      <td>2.63</td>\n",
       "    </tr>\n",
       "    <tr>\n",
       "      <th>4</th>\n",
       "      <td>5</td>\n",
       "      <td>0.31</td>\n",
       "      <td>Good</td>\n",
       "      <td>J</td>\n",
       "      <td>SI2</td>\n",
       "      <td>63.3</td>\n",
       "      <td>58.0</td>\n",
       "      <td>335</td>\n",
       "      <td>4.34</td>\n",
       "      <td>4.35</td>\n",
       "      <td>2.75</td>\n",
       "    </tr>\n",
       "  </tbody>\n",
       "</table>\n",
       "</div>"
      ],
      "text/plain": [
       "   Unnamed: 0  carat      cut color clarity  depth  table  price     x     y  \\\n",
       "0           1   0.23    Ideal     E     SI2   61.5   55.0    326  3.95  3.98   \n",
       "1           2   0.21  Premium     E     SI1   59.8   61.0    326  3.89  3.84   \n",
       "2           3   0.23     Good     E     VS1   56.9   65.0    327  4.05  4.07   \n",
       "3           4   0.29  Premium     I     VS2   62.4   58.0    334  4.20  4.23   \n",
       "4           5   0.31     Good     J     SI2   63.3   58.0    335  4.34  4.35   \n",
       "\n",
       "      z  \n",
       "0  2.43  \n",
       "1  2.31  \n",
       "2  2.31  \n",
       "3  2.63  \n",
       "4  2.75  "
      ]
     },
     "execution_count": 2,
     "metadata": {},
     "output_type": "execute_result"
    }
   ],
   "source": [
    "diamond_df = pd.read_csv(\n",
    "    Path(\"Diamonds_price_data.csv\")\n",
    ")\n",
    "\n",
    "# Review the DataFrame\n",
    "diamond_df.head()"
   ]
  },
  {
   "cell_type": "code",
   "execution_count": 3,
   "id": "1c783c6b-e851-4b9f-8dfc-584a60e5ec79",
   "metadata": {},
   "outputs": [
    {
     "data": {
      "text/plain": [
       "<seaborn.axisgrid.FacetGrid at 0x1baa1f21048>"
      ]
     },
     "execution_count": 3,
     "metadata": {},
     "output_type": "execute_result"
    },
    {
     "data": {
      "image/png": "[encoded data removed]",
      "text/plain": [
       "<Figure size 360x360 with 1 Axes>"
      ]
     },
     "metadata": {
      "needs_background": "light"
     },
     "output_type": "display_data"
    }
   ],
   "source": [
    "sns.displot(diamond_df['price'])"
   ]
  },
  {
   "cell_type": "code",
   "execution_count": 4,
   "id": "146a1a34-29fc-46d5-a05b-feaf8d939b4c",
   "metadata": {},
   "outputs": [
    {
     "data": {
      "text/html": [
       "<div>\n",
       "<style scoped>\n",
       "    .dataframe tbody tr th:only-of-type {\n",
       "        vertical-align: middle;\n",
       "    }\n",
       "\n",
       "    .dataframe tbody tr th {\n",
       "        vertical-align: top;\n",
       "    }\n",
       "\n",
       "    .dataframe thead th {\n",
       "        text-align: right;\n",
       "    }\n",
       "</style>\n",
       "<table border=\"1\" class=\"dataframe\">\n",
       "  <thead>\n",
       "    <tr style=\"text-align: right;\">\n",
       "      <th></th>\n",
       "      <th>Unnamed: 0</th>\n",
       "      <th>carat</th>\n",
       "      <th>cut</th>\n",
       "      <th>color</th>\n",
       "      <th>clarity</th>\n",
       "      <th>depth</th>\n",
       "      <th>table</th>\n",
       "      <th>price</th>\n",
       "      <th>x</th>\n",
       "      <th>y</th>\n",
       "      <th>z</th>\n",
       "    </tr>\n",
       "  </thead>\n",
       "  <tbody>\n",
       "    <tr>\n",
       "      <th>0</th>\n",
       "      <td>1</td>\n",
       "      <td>0.23</td>\n",
       "      <td>5</td>\n",
       "      <td>6</td>\n",
       "      <td>4</td>\n",
       "      <td>61.5</td>\n",
       "      <td>55.0</td>\n",
       "      <td>326</td>\n",
       "      <td>3.95</td>\n",
       "      <td>3.98</td>\n",
       "      <td>2.43</td>\n",
       "    </tr>\n",
       "    <tr>\n",
       "      <th>1</th>\n",
       "      <td>2</td>\n",
       "      <td>0.21</td>\n",
       "      <td>4</td>\n",
       "      <td>6</td>\n",
       "      <td>5</td>\n",
       "      <td>59.8</td>\n",
       "      <td>61.0</td>\n",
       "      <td>326</td>\n",
       "      <td>3.89</td>\n",
       "      <td>3.84</td>\n",
       "      <td>2.31</td>\n",
       "    </tr>\n",
       "    <tr>\n",
       "      <th>2</th>\n",
       "      <td>3</td>\n",
       "      <td>0.23</td>\n",
       "      <td>2</td>\n",
       "      <td>6</td>\n",
       "      <td>7</td>\n",
       "      <td>56.9</td>\n",
       "      <td>65.0</td>\n",
       "      <td>327</td>\n",
       "      <td>4.05</td>\n",
       "      <td>4.07</td>\n",
       "      <td>2.31</td>\n",
       "    </tr>\n",
       "    <tr>\n",
       "      <th>3</th>\n",
       "      <td>4</td>\n",
       "      <td>0.29</td>\n",
       "      <td>4</td>\n",
       "      <td>2</td>\n",
       "      <td>6</td>\n",
       "      <td>62.4</td>\n",
       "      <td>58.0</td>\n",
       "      <td>334</td>\n",
       "      <td>4.20</td>\n",
       "      <td>4.23</td>\n",
       "      <td>2.63</td>\n",
       "    </tr>\n",
       "    <tr>\n",
       "      <th>4</th>\n",
       "      <td>5</td>\n",
       "      <td>0.31</td>\n",
       "      <td>2</td>\n",
       "      <td>1</td>\n",
       "      <td>4</td>\n",
       "      <td>63.3</td>\n",
       "      <td>58.0</td>\n",
       "      <td>335</td>\n",
       "      <td>4.34</td>\n",
       "      <td>4.35</td>\n",
       "      <td>2.75</td>\n",
       "    </tr>\n",
       "  </tbody>\n",
       "</table>\n",
       "</div>"
      ],
      "text/plain": [
       "   Unnamed: 0  carat  cut  color  clarity  depth  table  price     x     y  \\\n",
       "0           1   0.23    5      6        4   61.5   55.0    326  3.95  3.98   \n",
       "1           2   0.21    4      6        5   59.8   61.0    326  3.89  3.84   \n",
       "2           3   0.23    2      6        7   56.9   65.0    327  4.05  4.07   \n",
       "3           4   0.29    4      2        6   62.4   58.0    334  4.20  4.23   \n",
       "4           5   0.31    2      1        4   63.3   58.0    335  4.34  4.35   \n",
       "\n",
       "      z  \n",
       "0  2.43  \n",
       "1  2.31  \n",
       "2  2.31  \n",
       "3  2.63  \n",
       "4  2.75  "
      ]
     },
     "execution_count": 4,
     "metadata": {},
     "output_type": "execute_result"
    }
   ],
   "source": [
    "#convert the Data\n",
    "diamond_df['color'] = diamond_df['color'].replace(['J','I','H','G','F','E','D'],[1,2,3,4,5,6,7])\n",
    "diamond_df['cut'] = diamond_df['cut'].replace(['Fair','Good','Very Good','Premium','Ideal'],[1,2,3,4,5])\n",
    "diamond_df['clarity'] = diamond_df['clarity'].replace(['I3','I2','I1','SI2','SI1','VS2','VS1','VVS2','VVS1','IF'],[1,2,3,4,5,6,7,8,9,10])\n",
    "\n",
    "X = diamond_df.drop(columns=[\"price\"]).copy()\n",
    "diamond_df.head()\n"
   ]
  },
  {
   "cell_type": "code",
   "execution_count": 5,
   "id": "8c11a9ee-2b7f-4e51-b458-cebf405a6758",
   "metadata": {},
   "outputs": [
    {
     "data": {
      "text/plain": [
       "0    326\n",
       "1    326\n",
       "2    327\n",
       "3    334\n",
       "4    335\n",
       "Name: price, dtype: int64"
      ]
     },
     "execution_count": 5,
     "metadata": {},
     "output_type": "execute_result"
    }
   ],
   "source": [
    "y = diamond_df[\"price\"]\n",
    "y[:5]"
   ]
  },
  {
   "cell_type": "code",
   "execution_count": 6,
   "id": "c1080332-fd2f-42ed-9031-5a661bacbffc",
   "metadata": {},
   "outputs": [],
   "source": [
    "#Drop Price from the seature set\n",
    "features = diamond_df.drop(['price'], axis=1).values\n",
    "\n",
    "#Mark Price as the label set\n",
    "labels = diamond_df['price'].values"
   ]
  },
  {
   "cell_type": "code",
   "execution_count": 7,
   "id": "287d57e2-6cdf-4047-9f6f-1dd64d58e88f",
   "metadata": {},
   "outputs": [
    {
     "data": {
      "text/plain": [
       "StandardScaler()"
      ]
     },
     "execution_count": 7,
     "metadata": {},
     "output_type": "execute_result"
    }
   ],
   "source": [
    "X_train, X_test, y_train, y_test = train_test_split(X, y, random_state=1)\n",
    "X_scaler = StandardScaler()\n",
    "X_scaler.fit(X_train)"
   ]
  },
  {
   "cell_type": "code",
   "execution_count": 8,
   "id": "4af6abda-7b24-4705-be31-477e7b69f00e",
   "metadata": {},
   "outputs": [],
   "source": [
    "#Scale the Data \n",
    "sc = StandardScaler()\n",
    "X_train = sc.fit_transform(X_train)\n",
    "X_test = sc.transform(X_test)"
   ]
  },
  {
   "cell_type": "code",
   "execution_count": 9,
   "id": "32157a9a-1ce1-46a9-a8c9-898b63d06e9e",
   "metadata": {},
   "outputs": [],
   "source": [
    "#Creating the neural network will contain an input layer, four hidden layers and one output layer. \n",
    "input_layer = Input(shape=(features.shape[1],))\n",
    "l1 = Dense(250, activation='relu')(input_layer)\n",
    "l2 = Dense(125, activation='relu')(l1)\n",
    "l3 = Dense(100, activation='relu')(l2)\n",
    "l4 = Dense(25, activation='relu')(l3)\n",
    "output = Dense(1)(l3)"
   ]
  },
  {
   "cell_type": "code",
   "execution_count": 10,
   "id": "911b5d71-f873-4320-8fe4-84f5d54503e9",
   "metadata": {},
   "outputs": [],
   "source": [
    "#use .compile to compile the Model\n",
    "model = Model(inputs=input_layer, outputs=output)\n",
    "model.compile(loss=\"mean_absolute_error\" , optimizer=\"adam\", metrics=[\"mean_absolute_error\"])"
   ]
  },
  {
   "cell_type": "code",
   "execution_count": 11,
   "id": "7f59a357-c0da-4b7c-831c-8a99d18418af",
   "metadata": {},
   "outputs": [
    {
     "name": "stdout",
     "output_type": "stream",
     "text": [
      "Model: \"model\"\n",
      "_________________________________________________________________\n",
      " Layer (type)                Output Shape              Param #   \n",
      "=================================================================\n",
      " input_1 (InputLayer)        [(None, 10)]              0         \n",
      "                                                                 \n",
      " dense (Dense)               (None, 250)               2750      \n",
      "                                                                 \n",
      " dense_1 (Dense)             (None, 125)               31375     \n",
      "                                                                 \n",
      " dense_2 (Dense)             (None, 100)               12600     \n",
      "                                                                 \n",
      " dense_4 (Dense)             (None, 1)                 101       \n",
      "                                                                 \n",
      "=================================================================\n",
      "Total params: 46,826\n",
      "Trainable params: 46,826\n",
      "Non-trainable params: 0\n",
      "_________________________________________________________________\n",
      "None\n"
     ]
    }
   ],
   "source": [
    "print(model.summary())"
   ]
  },
  {
   "cell_type": "code",
   "execution_count": 12,
   "id": "cc3aca8d-84a4-4b81-9fde-924f1a523c08",
   "metadata": {},
   "outputs": [
    {
     "name": "stdout",
     "output_type": "stream",
     "text": [
      "Epoch 1/20\n",
      "16183/16183 [==============================] - 27s 2ms/step - loss: 478.5203 - mean_absolute_error: 478.5203 - val_loss: 365.1108 - val_mean_absolute_error: 365.1108\n",
      "Epoch 2/20\n",
      "16183/16183 [==============================] - 26s 2ms/step - loss: 330.6893 - mean_absolute_error: 330.6893 - val_loss: 249.3960 - val_mean_absolute_error: 249.3960\n",
      "Epoch 3/20\n",
      "16183/16183 [==============================] - 26s 2ms/step - loss: 220.9437 - mean_absolute_error: 220.9437 - val_loss: 193.0248 - val_mean_absolute_error: 193.0248\n",
      "Epoch 4/20\n",
      "16183/16183 [==============================] - 26s 2ms/step - loss: 141.1618 - mean_absolute_error: 141.1618 - val_loss: 92.8767 - val_mean_absolute_error: 92.8767\n",
      "Epoch 5/20\n",
      "16183/16183 [==============================] - 26s 2ms/step - loss: 108.0541 - mean_absolute_error: 108.0541 - val_loss: 71.5232 - val_mean_absolute_error: 71.5232\n",
      "Epoch 6/20\n",
      "16183/16183 [==============================] - 26s 2ms/step - loss: 90.5263 - mean_absolute_error: 90.5263 - val_loss: 101.9429 - val_mean_absolute_error: 101.9429\n",
      "Epoch 7/20\n",
      "16183/16183 [==============================] - 27s 2ms/step - loss: 80.7769 - mean_absolute_error: 80.7769 - val_loss: 73.8767 - val_mean_absolute_error: 73.8767\n",
      "Epoch 8/20\n",
      "16183/16183 [==============================] - 27s 2ms/step - loss: 74.5075 - mean_absolute_error: 74.5075 - val_loss: 60.2220 - val_mean_absolute_error: 60.2220\n",
      "Epoch 9/20\n",
      "16183/16183 [==============================] - 27s 2ms/step - loss: 69.5535 - mean_absolute_error: 69.5535 - val_loss: 84.1168 - val_mean_absolute_error: 84.1168\n",
      "Epoch 10/20\n",
      "16183/16183 [==============================] - 27s 2ms/step - loss: 65.7171 - mean_absolute_error: 65.7171 - val_loss: 87.0210 - val_mean_absolute_error: 87.0210\n",
      "Epoch 11/20\n",
      "16183/16183 [==============================] - 28s 2ms/step - loss: 62.7331 - mean_absolute_error: 62.7331 - val_loss: 67.9083 - val_mean_absolute_error: 67.9083\n",
      "Epoch 12/20\n",
      "16183/16183 [==============================] - 27s 2ms/step - loss: 59.7710 - mean_absolute_error: 59.7710 - val_loss: 44.4032 - val_mean_absolute_error: 44.4032\n",
      "Epoch 13/20\n",
      "16183/16183 [==============================] - 28s 2ms/step - loss: 59.0012 - mean_absolute_error: 59.0012 - val_loss: 49.1954 - val_mean_absolute_error: 49.1954\n",
      "Epoch 14/20\n",
      "16183/16183 [==============================] - 28s 2ms/step - loss: 56.6660 - mean_absolute_error: 56.6660 - val_loss: 48.3396 - val_mean_absolute_error: 48.3396\n",
      "Epoch 15/20\n",
      "16183/16183 [==============================] - 27s 2ms/step - loss: 55.1434 - mean_absolute_error: 55.1434 - val_loss: 48.3740 - val_mean_absolute_error: 48.3740\n",
      "Epoch 16/20\n",
      "16183/16183 [==============================] - 30s 2ms/step - loss: 52.6267 - mean_absolute_error: 52.6267 - val_loss: 60.9158 - val_mean_absolute_error: 60.9158\n",
      "Epoch 17/20\n",
      "16183/16183 [==============================] - 28s 2ms/step - loss: 52.0276 - mean_absolute_error: 52.0276 - val_loss: 42.3785 - val_mean_absolute_error: 42.3785\n",
      "Epoch 18/20\n",
      "16183/16183 [==============================] - 27s 2ms/step - loss: 50.7290 - mean_absolute_error: 50.7290 - val_loss: 37.8460 - val_mean_absolute_error: 37.8460\n",
      "Epoch 19/20\n",
      "16183/16183 [==============================] - 28s 2ms/step - loss: 49.9113 - mean_absolute_error: 49.9113 - val_loss: 39.5144 - val_mean_absolute_error: 39.5144\n",
      "Epoch 20/20\n",
      "16183/16183 [==============================] - 28s 2ms/step - loss: 49.1456 - mean_absolute_error: 49.1456 - val_loss: 59.2612 - val_mean_absolute_error: 59.2612\n"
     ]
    }
   ],
   "source": [
    "#Run the model \n",
    "history = model.fit(X_train, y_train, batch_size=2, epochs=20, verbose=1, validation_split=0.2)\n",
    "\n"
   ]
  },
  {
   "cell_type": "code",
   "execution_count": 13,
   "id": "88e5ccfe-4a5e-43b5-bb8a-8b1e544eb997",
   "metadata": {},
   "outputs": [
    {
     "name": "stdout",
     "output_type": "stream",
     "text": [
      "1265/1265 [==============================] - 1s 1ms/step\n",
      "57.235493385470896\n",
      "422/422 [==============================] - 0s 1ms/step\n",
      "56.52097226759101\n"
     ]
    }
   ],
   "source": [
    "pred_train = model.predict(X_train)\n",
    "print(mean_absolute_error(y_train,pred_train))\n",
    "\n",
    "pred = model.predict(X_test)\n",
    "print(mean_absolute_error(y_test,pred))"
   ]
  },
  {
   "cell_type": "code",
   "execution_count": 14,
   "id": "fbe60827-f64e-40d4-ae1d-42d2cc02356e",
   "metadata": {},
   "outputs": [
    {
     "name": "stdout",
     "output_type": "stream",
     "text": [
      "422/422 - 1s - loss: 56.5210 - mean_absolute_error: 56.5210 - 532ms/epoch - 1ms/step\n",
      "Loss: 56.52096939086914, Accuracy: 56.52096939086914\n"
     ]
    }
   ],
   "source": [
    "#df = pd.DataFrame(model.history, index=range(1, len(model.history[\"loss\"]) + 1))\n",
    "model_loss, model_accuracy = model.evaluate(X_test, y_test, verbose=2)\n",
    "\n",
    "# Display the evaluation results\n",
    "print(f\"Loss: {model_loss}, Accuracy: {model_accuracy}\")"
   ]
  },
  {
   "cell_type": "code",
   "execution_count": null,
   "id": "b23f5b71-4c59-47d1-b17c-a16a662bf9b5",
   "metadata": {},
   "outputs": [],
   "source": []
  },
  {
   "cell_type": "code",
   "execution_count": null,
   "id": "06d84c9d-728d-4335-b8af-175b1fec6af1",
   "metadata": {},
   "outputs": [],
   "source": []
  }
 ],
 "metadata": {
  "kernelspec": {
   "display_name": "Python (dev)",
   "language": "python",
   "name": "dev"
  },
  "language_info": {
   "codemirror_mode": {
    "name": "ipython",
    "version": 3
   },
   "file_extension": ".py",
   "mimetype": "text/x-python",
   "name": "python",
   "nbconvert_exporter": "python",
   "pygments_lexer": "ipython3",
   "version": "3.7.11"
  }
 },
 "nbformat": 4,
 "nbformat_minor": 5
}
