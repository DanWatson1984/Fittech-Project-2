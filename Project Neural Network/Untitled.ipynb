{
 "cells": [
  {
   "cell_type": "code",
   "execution_count": 24,
   "id": "f0d75425-0b68-4649-b5e9-5290e1e387ce",
   "metadata": {},
   "outputs": [],
   "source": [
    "import pandas as pd\n",
    "from path import Path\n",
    "import numpy as np\n",
    "from sklearn.preprocessing import StandardScaler\n",
    "from sklearn.model_selection import train_test_split\n",
    "from sklearn.ensemble import RandomForestRegressor"
   ]
  },
  {
   "cell_type": "code",
   "execution_count": 25,
   "id": "f9e24861-1dd0-4535-bdfd-887b3a21bfb4",
   "metadata": {},
   "outputs": [
    {
     "data": {
      "text/plain": [
       "<bound method NDFrame.head of        Unnamed: 0  carat        cut color clarity  depth  table  price     x  \\\n",
       "0               1   0.23      Ideal     E     SI2   61.5   55.0    326  3.95   \n",
       "1               2   0.21    Premium     E     SI1   59.8   61.0    326  3.89   \n",
       "2               3   0.23       Good     E     VS1   56.9   65.0    327  4.05   \n",
       "3               4   0.29    Premium     I     VS2   62.4   58.0    334  4.20   \n",
       "4               5   0.31       Good     J     SI2   63.3   58.0    335  4.34   \n",
       "...           ...    ...        ...   ...     ...    ...    ...    ...   ...   \n",
       "53938       53939   0.86    Premium     H     SI2   61.0   58.0   2757  6.15   \n",
       "53939       53940   0.75      Ideal     D     SI2   62.2   55.0   2757  5.83   \n",
       "53940       53941   0.71    Premium     E     SI1   60.5   55.0   2756  5.79   \n",
       "53941       53942   0.71    Premium     F     SI1   59.8   62.0   2756  5.74   \n",
       "53942       53943   0.70  Very Good     E     VS2   60.5   59.0   2757  5.71   \n",
       "\n",
       "          y     z  \n",
       "0      3.98  2.43  \n",
       "1      3.84  2.31  \n",
       "2      4.07  2.31  \n",
       "3      4.23  2.63  \n",
       "4      4.35  2.75  \n",
       "...     ...   ...  \n",
       "53938  6.12  3.74  \n",
       "53939  5.87  3.64  \n",
       "53940  5.74  3.49  \n",
       "53941  5.73  3.43  \n",
       "53942  5.76  3.47  \n",
       "\n",
       "[53943 rows x 11 columns]>"
      ]
     },
     "execution_count": 25,
     "metadata": {},
     "output_type": "execute_result"
    }
   ],
   "source": [
    "diamond_df = pd.read_csv(Path(\"Diamonds_price_data.csv\"))\n",
    "diamond_df.head"
   ]
  },
  {
   "cell_type": "code",
   "execution_count": 26,
   "id": "6bc13fa3-8517-4e70-a57c-0df6924556f7",
   "metadata": {},
   "outputs": [
    {
     "data": {
      "text/html": [
       "<div>\n",
       "<style scoped>\n",
       "    .dataframe tbody tr th:only-of-type {\n",
       "        vertical-align: middle;\n",
       "    }\n",
       "\n",
       "    .dataframe tbody tr th {\n",
       "        vertical-align: top;\n",
       "    }\n",
       "\n",
       "    .dataframe thead th {\n",
       "        text-align: right;\n",
       "    }\n",
       "</style>\n",
       "<table border=\"1\" class=\"dataframe\">\n",
       "  <thead>\n",
       "    <tr style=\"text-align: right;\">\n",
       "      <th></th>\n",
       "      <th>carat</th>\n",
       "      <th>cut</th>\n",
       "      <th>color</th>\n",
       "      <th>clarity</th>\n",
       "      <th>depth</th>\n",
       "      <th>table</th>\n",
       "      <th>x</th>\n",
       "      <th>y</th>\n",
       "      <th>z</th>\n",
       "    </tr>\n",
       "  </thead>\n",
       "  <tbody>\n",
       "    <tr>\n",
       "      <th>0</th>\n",
       "      <td>-1.198189</td>\n",
       "      <td>0.981506</td>\n",
       "      <td>0.937131</td>\n",
       "      <td>-1.245216</td>\n",
       "      <td>-0.174033</td>\n",
       "      <td>-1.099673</td>\n",
       "      <td>-1.587882</td>\n",
       "      <td>-1.536239</td>\n",
       "      <td>-1.571166</td>\n",
       "    </tr>\n",
       "    <tr>\n",
       "      <th>1</th>\n",
       "      <td>-1.240384</td>\n",
       "      <td>0.085903</td>\n",
       "      <td>0.937131</td>\n",
       "      <td>-0.638084</td>\n",
       "      <td>-1.360676</td>\n",
       "      <td>1.585457</td>\n",
       "      <td>-1.641372</td>\n",
       "      <td>-1.658821</td>\n",
       "      <td>-1.741217</td>\n",
       "    </tr>\n",
       "    <tr>\n",
       "      <th>2</th>\n",
       "      <td>-1.198189</td>\n",
       "      <td>-1.705304</td>\n",
       "      <td>0.937131</td>\n",
       "      <td>0.576181</td>\n",
       "      <td>-3.384949</td>\n",
       "      <td>3.375544</td>\n",
       "      <td>-1.498733</td>\n",
       "      <td>-1.457436</td>\n",
       "      <td>-1.741217</td>\n",
       "    </tr>\n",
       "    <tr>\n",
       "      <th>3</th>\n",
       "      <td>-1.071605</td>\n",
       "      <td>0.085903</td>\n",
       "      <td>-1.414328</td>\n",
       "      <td>-0.030951</td>\n",
       "      <td>0.454189</td>\n",
       "      <td>0.242892</td>\n",
       "      <td>-1.365010</td>\n",
       "      <td>-1.317342</td>\n",
       "      <td>-1.287749</td>\n",
       "    </tr>\n",
       "    <tr>\n",
       "      <th>4</th>\n",
       "      <td>-1.029411</td>\n",
       "      <td>-1.705304</td>\n",
       "      <td>-2.002193</td>\n",
       "      <td>-1.245216</td>\n",
       "      <td>1.082412</td>\n",
       "      <td>0.242892</td>\n",
       "      <td>-1.240202</td>\n",
       "      <td>-1.212272</td>\n",
       "      <td>-1.117699</td>\n",
       "    </tr>\n",
       "  </tbody>\n",
       "</table>\n",
       "</div>"
      ],
      "text/plain": [
       "      carat       cut     color   clarity     depth     table         x  \\\n",
       "0 -1.198189  0.981506  0.937131 -1.245216 -0.174033 -1.099673 -1.587882   \n",
       "1 -1.240384  0.085903  0.937131 -0.638084 -1.360676  1.585457 -1.641372   \n",
       "2 -1.198189 -1.705304  0.937131  0.576181 -3.384949  3.375544 -1.498733   \n",
       "3 -1.071605  0.085903 -1.414328 -0.030951  0.454189  0.242892 -1.365010   \n",
       "4 -1.029411 -1.705304 -2.002193 -1.245216  1.082412  0.242892 -1.240202   \n",
       "\n",
       "          y         z  \n",
       "0 -1.536239 -1.571166  \n",
       "1 -1.658821 -1.741217  \n",
       "2 -1.457436 -1.741217  \n",
       "3 -1.317342 -1.287749  \n",
       "4 -1.212272 -1.117699  "
      ]
     },
     "execution_count": 26,
     "metadata": {},
     "output_type": "execute_result"
    }
   ],
   "source": [
    "# used label encoding for color, cut, and clarity features.\n",
    "diamond_df['color'] = diamond_df['color'].replace(['J','I','H','G','F','E','D'],[1,2,3,4,5,6,7])\n",
    "diamond_df['cut'] = diamond_df['cut'].replace(['Fair','Good','Very Good','Premium','Ideal'],[1,2,3,4,5])\n",
    "diamond_df['clarity'] = diamond_df['clarity'].replace(['I3','I2','I1','SI2','SI1','VS2','VS1','VVS2','VVS1','IF'],[1,2,3,4,5,6,7,8,9,10])\n",
    "\n",
    "# dropping unnecessary column.\n",
    "diamond_df = diamond_df.drop(columns=[\"Unnamed: 0\"])\n",
    "\n",
    "# scaling diamond_df.\n",
    "diamond_data_scaled = StandardScaler().fit_transform(diamond_df[['carat', 'cut', 'color', 'clarity', 'depth', 'table', 'price', 'x', 'y', 'z']])\n",
    "\n",
    "# turning scaled data into DataFrame.\n",
    "scaled_diamond_df = pd.DataFrame(diamond_data_scaled, columns=['carat', 'cut', 'color', 'clarity', 'depth', 'table', 'price', 'x', 'y', 'z'])\n",
    "\n",
    "features = scaled_diamond_df.drop(columns=[\"price\"])\n",
    "\n",
    "features.head()"
   ]
  },
  {
   "cell_type": "code",
   "execution_count": 27,
   "id": "f4efc352-5fcb-48a6-9638-99ffd107b67e",
   "metadata": {},
   "outputs": [],
   "source": [
    "# creating numpy array of price data (labels, the value we want to predict).\n",
    "labels = np.array(scaled_diamond_df['price'])\n",
    "\n",
    "# converting to numpy array.\n",
    "features = np.array(features)"
   ]
  },
  {
   "cell_type": "code",
   "execution_count": 13,
   "id": "e5ab69d8-9333-4d7b-b2b9-63f1fedacabc",
   "metadata": {},
   "outputs": [],
   "source": [
    "# splitting data into training and testing sets.\n",
    "train_features, test_features, train_labels, test_labels = train_test_split(features, labels, test_size = 0.25, random_state = 42)\n",
    "\n",
    "# instantiate model.\n",
    "rf = RandomForestRegressor(n_estimators = 1000, random_state = 42)\n",
    "\n",
    "# fit the model to the data.\n",
    "rf.fit(train_features, train_labels);"
   ]
  },
  {
   "cell_type": "code",
   "execution_count": 14,
   "id": "5c233c78-0337-4aed-9c98-6e17b7ba02aa",
   "metadata": {},
   "outputs": [
    {
     "name": "stdout",
     "output_type": "stream",
     "text": [
      "Mean Absolute Error: 0.07 dollars\n",
      "Accuracy: 99.72 %.\n"
     ]
    }
   ],
   "source": [
    "predictions = rf.predict(test_features)\n",
    "\n",
    "# calculate the absolute errors\n",
    "errors = abs(predictions - test_labels)\n",
    "\n",
    "# print out the mean absolute error.\n",
    "print('Mean Absolute Error:', round(np.mean(errors), 2), 'dollars')\n",
    "\n",
    "# calculate mean absolute percentage error.\n",
    "mape = 100 * (errors / test_labels)\n",
    "\n",
    "# calculate accuracy\n",
    "accuracy = 100 - np.mean(mape)\n",
    "print('Accuracy:', round(accuracy, 2), '%.')"
   ]
  },
  {
   "cell_type": "code",
   "execution_count": 15,
   "id": "8fb496b4-d926-45da-b03f-24d240750b6e",
   "metadata": {},
   "outputs": [
    {
     "name": "stdout",
     "output_type": "stream",
     "text": [
      "Variable: carat                Importance: 0.62\n",
      "Variable: y                    Importance: 0.27\n",
      "Variable: clarity              Importance: 0.06\n",
      "Variable: color                Importance: 0.03\n",
      "Variable: x                    Importance: 0.01\n",
      "Variable: cut                  Importance: 0.0\n",
      "Variable: depth                Importance: 0.0\n",
      "Variable: table                Importance: 0.0\n",
      "Variable: z                    Importance: 0.0\n"
     ]
    }
   ],
   "source": [
    "# numerical feature importances.\n",
    "importances = list(rf.feature_importances_)\n",
    "\n",
    "# list of tuples w/ features matched with their improtance.\n",
    "feature_importances = [(feature, round(importance, 2)) for feature, importance in zip(feature_list, importances)]\n",
    "\n",
    "# sort most important features first.\n",
    "feature_importances = sorted(feature_importances, key = lambda x: x[1], reverse = True)\n",
    "\n",
    "# print out feature and corresponding importances.\n",
    "[print('Variable: {:20} Importance: {}'.format(*pair)) for pair in feature_importances];\n"
   ]
  },
  {
   "cell_type": "code",
   "execution_count": null,
   "id": "c1c9d840-5acc-4cda-bcc4-7aca0be9066d",
   "metadata": {},
   "outputs": [],
   "source": []
  }
 ],
 "metadata": {
  "kernelspec": {
   "display_name": "Python 3 (ipykernel)",
   "language": "python",
   "name": "python3"
  },
  "language_info": {
   "codemirror_mode": {
    "name": "ipython",
    "version": 3
   },
   "file_extension": ".py",
   "mimetype": "text/x-python",
   "name": "python",
   "nbconvert_exporter": "python",
   "pygments_lexer": "ipython3",
   "version": "3.7.11"
  }
 },
 "nbformat": 4,
 "nbformat_minor": 5
}
