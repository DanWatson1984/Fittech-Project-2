{
 "cells": [
  {
   "cell_type": "code",
   "execution_count": 137,
   "id": "b83657f8-0fc3-4121-a0b0-96d38e0587ef",
   "metadata": {},
   "outputs": [],
   "source": [
    "# Imports\n",
    "import pandas as pd\n",
    "from path import Path\n",
    "from sklearn.preprocessing import StandardScaler\n",
    "from sklearn.model_selection import train_test_split\n",
    "from sklearn.preprocessing import OrdinalEncoder, StandardScaler\n",
    "from sklearn import preprocessing\n",
    "import tensorflow as tf\n",
    "from tensorflow.keras.layers import Dense\n",
    "from tensorflow.keras.models import Sequential\n",
    "from tensorflow.keras.layers import Input, Dense, Dropout, Activation\n",
    "from tensorflow.keras.models import Model\n",
    "from sklearn.metrics import mean_absolute_error\n",
    "from math import sqrt\n",
    "\n",
    "%matplotlib inline"
   ]
  },
  {
   "cell_type": "code",
   "execution_count": 138,
   "id": "a740cc7a-ff11-474a-85b3-8d4275719a3a",
   "metadata": {},
   "outputs": [
    {
     "data": {
      "text/html": [
       "<div>\n",
       "<style scoped>\n",
       "    .dataframe tbody tr th:only-of-type {\n",
       "        vertical-align: middle;\n",
       "    }\n",
       "\n",
       "    .dataframe tbody tr th {\n",
       "        vertical-align: top;\n",
       "    }\n",
       "\n",
       "    .dataframe thead th {\n",
       "        text-align: right;\n",
       "    }\n",
       "</style>\n",
       "<table border=\"1\" class=\"dataframe\">\n",
       "  <thead>\n",
       "    <tr style=\"text-align: right;\">\n",
       "      <th></th>\n",
       "      <th>Unnamed: 0</th>\n",
       "      <th>carat</th>\n",
       "      <th>cut</th>\n",
       "      <th>color</th>\n",
       "      <th>clarity</th>\n",
       "      <th>depth</th>\n",
       "      <th>table</th>\n",
       "      <th>price</th>\n",
       "      <th>x</th>\n",
       "      <th>y</th>\n",
       "      <th>z</th>\n",
       "    </tr>\n",
       "  </thead>\n",
       "  <tbody>\n",
       "    <tr>\n",
       "      <th>0</th>\n",
       "      <td>1</td>\n",
       "      <td>0.23</td>\n",
       "      <td>Ideal</td>\n",
       "      <td>E</td>\n",
       "      <td>SI2</td>\n",
       "      <td>61.5</td>\n",
       "      <td>55.0</td>\n",
       "      <td>326</td>\n",
       "      <td>3.95</td>\n",
       "      <td>3.98</td>\n",
       "      <td>2.43</td>\n",
       "    </tr>\n",
       "    <tr>\n",
       "      <th>1</th>\n",
       "      <td>2</td>\n",
       "      <td>0.21</td>\n",
       "      <td>Premium</td>\n",
       "      <td>E</td>\n",
       "      <td>SI1</td>\n",
       "      <td>59.8</td>\n",
       "      <td>61.0</td>\n",
       "      <td>326</td>\n",
       "      <td>3.89</td>\n",
       "      <td>3.84</td>\n",
       "      <td>2.31</td>\n",
       "    </tr>\n",
       "    <tr>\n",
       "      <th>2</th>\n",
       "      <td>3</td>\n",
       "      <td>0.23</td>\n",
       "      <td>Good</td>\n",
       "      <td>E</td>\n",
       "      <td>VS1</td>\n",
       "      <td>56.9</td>\n",
       "      <td>65.0</td>\n",
       "      <td>327</td>\n",
       "      <td>4.05</td>\n",
       "      <td>4.07</td>\n",
       "      <td>2.31</td>\n",
       "    </tr>\n",
       "    <tr>\n",
       "      <th>3</th>\n",
       "      <td>4</td>\n",
       "      <td>0.29</td>\n",
       "      <td>Premium</td>\n",
       "      <td>I</td>\n",
       "      <td>VS2</td>\n",
       "      <td>62.4</td>\n",
       "      <td>58.0</td>\n",
       "      <td>334</td>\n",
       "      <td>4.20</td>\n",
       "      <td>4.23</td>\n",
       "      <td>2.63</td>\n",
       "    </tr>\n",
       "    <tr>\n",
       "      <th>4</th>\n",
       "      <td>5</td>\n",
       "      <td>0.31</td>\n",
       "      <td>Good</td>\n",
       "      <td>J</td>\n",
       "      <td>SI2</td>\n",
       "      <td>63.3</td>\n",
       "      <td>58.0</td>\n",
       "      <td>335</td>\n",
       "      <td>4.34</td>\n",
       "      <td>4.35</td>\n",
       "      <td>2.75</td>\n",
       "    </tr>\n",
       "  </tbody>\n",
       "</table>\n",
       "</div>"
      ],
      "text/plain": [
       "   Unnamed: 0  carat      cut color clarity  depth  table  price     x     y  \\\n",
       "0           1   0.23    Ideal     E     SI2   61.5   55.0    326  3.95  3.98   \n",
       "1           2   0.21  Premium     E     SI1   59.8   61.0    326  3.89  3.84   \n",
       "2           3   0.23     Good     E     VS1   56.9   65.0    327  4.05  4.07   \n",
       "3           4   0.29  Premium     I     VS2   62.4   58.0    334  4.20  4.23   \n",
       "4           5   0.31     Good     J     SI2   63.3   58.0    335  4.34  4.35   \n",
       "\n",
       "      z  \n",
       "0  2.43  \n",
       "1  2.31  \n",
       "2  2.31  \n",
       "3  2.63  \n",
       "4  2.75  "
      ]
     },
     "execution_count": 138,
     "metadata": {},
     "output_type": "execute_result"
    }
   ],
   "source": [
    "diamond_df = pd.read_csv(\n",
    "    Path(\"Diamonds_price_data.csv\")\n",
    ")\n",
    "\n",
    "# Review the DataFrame\n",
    "diamond_df.head()"
   ]
  },
  {
   "cell_type": "code",
   "execution_count": 139,
   "id": "146a1a34-29fc-46d5-a05b-feaf8d939b4c",
   "metadata": {},
   "outputs": [
    {
     "data": {
      "text/html": [
       "<div>\n",
       "<style scoped>\n",
       "    .dataframe tbody tr th:only-of-type {\n",
       "        vertical-align: middle;\n",
       "    }\n",
       "\n",
       "    .dataframe tbody tr th {\n",
       "        vertical-align: top;\n",
       "    }\n",
       "\n",
       "    .dataframe thead th {\n",
       "        text-align: right;\n",
       "    }\n",
       "</style>\n",
       "<table border=\"1\" class=\"dataframe\">\n",
       "  <thead>\n",
       "    <tr style=\"text-align: right;\">\n",
       "      <th></th>\n",
       "      <th>Unnamed: 0</th>\n",
       "      <th>carat</th>\n",
       "      <th>cut</th>\n",
       "      <th>color</th>\n",
       "      <th>clarity</th>\n",
       "      <th>depth</th>\n",
       "      <th>table</th>\n",
       "      <th>price</th>\n",
       "      <th>x</th>\n",
       "      <th>y</th>\n",
       "      <th>z</th>\n",
       "    </tr>\n",
       "  </thead>\n",
       "  <tbody>\n",
       "    <tr>\n",
       "      <th>0</th>\n",
       "      <td>1</td>\n",
       "      <td>0.23</td>\n",
       "      <td>5</td>\n",
       "      <td>6</td>\n",
       "      <td>4</td>\n",
       "      <td>61.5</td>\n",
       "      <td>55.0</td>\n",
       "      <td>326</td>\n",
       "      <td>3.95</td>\n",
       "      <td>3.98</td>\n",
       "      <td>2.43</td>\n",
       "    </tr>\n",
       "    <tr>\n",
       "      <th>1</th>\n",
       "      <td>2</td>\n",
       "      <td>0.21</td>\n",
       "      <td>4</td>\n",
       "      <td>6</td>\n",
       "      <td>5</td>\n",
       "      <td>59.8</td>\n",
       "      <td>61.0</td>\n",
       "      <td>326</td>\n",
       "      <td>3.89</td>\n",
       "      <td>3.84</td>\n",
       "      <td>2.31</td>\n",
       "    </tr>\n",
       "    <tr>\n",
       "      <th>2</th>\n",
       "      <td>3</td>\n",
       "      <td>0.23</td>\n",
       "      <td>2</td>\n",
       "      <td>6</td>\n",
       "      <td>7</td>\n",
       "      <td>56.9</td>\n",
       "      <td>65.0</td>\n",
       "      <td>327</td>\n",
       "      <td>4.05</td>\n",
       "      <td>4.07</td>\n",
       "      <td>2.31</td>\n",
       "    </tr>\n",
       "    <tr>\n",
       "      <th>3</th>\n",
       "      <td>4</td>\n",
       "      <td>0.29</td>\n",
       "      <td>4</td>\n",
       "      <td>2</td>\n",
       "      <td>6</td>\n",
       "      <td>62.4</td>\n",
       "      <td>58.0</td>\n",
       "      <td>334</td>\n",
       "      <td>4.20</td>\n",
       "      <td>4.23</td>\n",
       "      <td>2.63</td>\n",
       "    </tr>\n",
       "    <tr>\n",
       "      <th>4</th>\n",
       "      <td>5</td>\n",
       "      <td>0.31</td>\n",
       "      <td>2</td>\n",
       "      <td>1</td>\n",
       "      <td>4</td>\n",
       "      <td>63.3</td>\n",
       "      <td>58.0</td>\n",
       "      <td>335</td>\n",
       "      <td>4.34</td>\n",
       "      <td>4.35</td>\n",
       "      <td>2.75</td>\n",
       "    </tr>\n",
       "  </tbody>\n",
       "</table>\n",
       "</div>"
      ],
      "text/plain": [
       "   Unnamed: 0  carat  cut  color  clarity  depth  table  price     x     y  \\\n",
       "0           1   0.23    5      6        4   61.5   55.0    326  3.95  3.98   \n",
       "1           2   0.21    4      6        5   59.8   61.0    326  3.89  3.84   \n",
       "2           3   0.23    2      6        7   56.9   65.0    327  4.05  4.07   \n",
       "3           4   0.29    4      2        6   62.4   58.0    334  4.20  4.23   \n",
       "4           5   0.31    2      1        4   63.3   58.0    335  4.34  4.35   \n",
       "\n",
       "      z  \n",
       "0  2.43  \n",
       "1  2.31  \n",
       "2  2.31  \n",
       "3  2.63  \n",
       "4  2.75  "
      ]
     },
     "execution_count": 139,
     "metadata": {},
     "output_type": "execute_result"
    }
   ],
   "source": [
    "diamond_df['color'] = diamond_df['color'].replace(['J','I','H','G','F','E','D'],[1,2,3,4,5,6,7])\n",
    "diamond_df['cut'] = diamond_df['cut'].replace(['Fair','Good','Very Good','Premium','Ideal'],[1,2,3,4,5])\n",
    "diamond_df['clarity'] = diamond_df['clarity'].replace(['I3','I2','I1','SI2','SI1','VS2','VS1','VVS2','VVS1','IF'],[1,2,3,4,5,6,7,8,9,10])\n",
    "\n",
    "\n",
    "X = diamond_df.drop(columns=[\"price\"]).copy()\n",
    "diamond_df.head()\n"
   ]
  },
  {
   "cell_type": "code",
   "execution_count": 140,
   "id": "8c11a9ee-2b7f-4e51-b458-cebf405a6758",
   "metadata": {},
   "outputs": [
    {
     "data": {
      "text/plain": [
       "0    326\n",
       "1    326\n",
       "2    327\n",
       "3    334\n",
       "4    335\n",
       "Name: price, dtype: int64"
      ]
     },
     "execution_count": 140,
     "metadata": {},
     "output_type": "execute_result"
    }
   ],
   "source": [
    "y = diamond_df[\"price\"]\n",
    "y[:5]"
   ]
  },
  {
   "cell_type": "code",
   "execution_count": 141,
   "id": "c1080332-fd2f-42ed-9031-5a661bacbffc",
   "metadata": {},
   "outputs": [],
   "source": [
    "features = diamond_df.drop(['price'], axis=1).values\n",
    "\n",
    "labels = diamond_df['price'].values"
   ]
  },
  {
   "cell_type": "code",
   "execution_count": null,
   "id": "42f99393-e27b-4c39-9016-5465681ef5e7",
   "metadata": {},
   "outputs": [],
   "source": []
  },
  {
   "cell_type": "code",
   "execution_count": 142,
   "id": "822bd516-27c2-485d-bcc7-e98fbd5e3281",
   "metadata": {},
   "outputs": [],
   "source": [
    "#label_encoder = preprocessing.LabelEncoder()\n",
    "# Encode labels in column 'Country'. \n",
    "#diamond_df[\"cut\"]= label_encoder.fit_transform(diamond_df[\"cut\"])\n",
    "#diamond_df[\"color\"]= label_encoder.fit_transform(diamond_df[\"color\"])\n",
    "#diamond_df[\"clarity\"]= label_encoder.fit_transform(diamond_df[\"clarity\"])\n",
    "#print(diamond_df.head())\n"
   ]
  },
  {
   "cell_type": "code",
   "execution_count": 143,
   "id": "287d57e2-6cdf-4047-9f6f-1dd64d58e88f",
   "metadata": {},
   "outputs": [
    {
     "data": {
      "text/plain": [
       "StandardScaler()"
      ]
     },
     "execution_count": 143,
     "metadata": {},
     "output_type": "execute_result"
    }
   ],
   "source": [
    "X_train, X_test, y_train, y_test = train_test_split(X, y, random_state=1)\n",
    "X_scaler = StandardScaler()\n",
    "X_scaler.fit(X_train)"
   ]
  },
  {
   "cell_type": "code",
   "execution_count": 144,
   "id": "f7015d47-589c-4120-a972-dca5877d0107",
   "metadata": {},
   "outputs": [],
   "source": [
    "#X_train_scaled = X_scaler.transform(X_train)\n",
    "#X_test_scaled = X_scaler.transform(X_test)"
   ]
  },
  {
   "cell_type": "code",
   "execution_count": 145,
   "id": "9bd492ec-bbf2-4527-988d-2389cc0e7012",
   "metadata": {},
   "outputs": [],
   "source": [
    "#number_inputs = 22"
   ]
  },
  {
   "cell_type": "code",
   "execution_count": 146,
   "id": "788f3f20-4975-40c4-aeb8-77f7dac0ab42",
   "metadata": {},
   "outputs": [],
   "source": [
    "#number_hidden_nodes = 12"
   ]
  },
  {
   "cell_type": "code",
   "execution_count": 147,
   "id": "e84d137d-ef2b-4706-9b3d-1821161edc16",
   "metadata": {},
   "outputs": [],
   "source": [
    "#neuron = Sequential()"
   ]
  },
  {
   "cell_type": "code",
   "execution_count": 148,
   "id": "edd4d118-5103-4b6e-a262-5c0e9c8f81f6",
   "metadata": {},
   "outputs": [],
   "source": [
    "#neuron.add(Dense(units=number_hidden_nodes, input_dim=number_inputs, activation=\"relu\"))"
   ]
  },
  {
   "cell_type": "code",
   "execution_count": 149,
   "id": "e18caa77-afa3-474a-a0da-33041faa2586",
   "metadata": {},
   "outputs": [],
   "source": [
    "#neuron.add(Dense(1, activation=\"sigmoid\"))"
   ]
  },
  {
   "cell_type": "code",
   "execution_count": 150,
   "id": "2cf7da79-6f8b-471c-afab-55bbc8b1a09a",
   "metadata": {},
   "outputs": [],
   "source": [
    "#neuron.summary()"
   ]
  },
  {
   "cell_type": "code",
   "execution_count": 151,
   "id": "3f21d981-2f57-40dc-ae95-c007dd7b1d9c",
   "metadata": {},
   "outputs": [],
   "source": [
    "input_layer = Input(shape=(features.shape[1],))\n",
    "l1 = Dense(100, activation='relu')(input_layer)\n",
    "l2 = Dense(50, activation='relu')(l1)\n",
    "l3 = Dense(25, activation='relu')(l2)\n",
    "output = Dense(1)(l3)"
   ]
  },
  {
   "cell_type": "code",
   "execution_count": 152,
   "id": "29894ef3-58c1-4468-8ee1-06d3987c2cea",
   "metadata": {},
   "outputs": [],
   "source": [
    "model = Model(inputs=input_layer, outputs=output)\n",
    "model.compile(loss=\"mean_absolute_error\" , optimizer=\"adam\", metrics=[\"mean_absolute_error\"])"
   ]
  },
  {
   "cell_type": "code",
   "execution_count": 153,
   "id": "4af6abda-7b24-4705-be31-477e7b69f00e",
   "metadata": {},
   "outputs": [],
   "source": [
    "sc = StandardScaler()\n",
    "X_train = sc.fit_transform(X_train)\n",
    "X_test = sc.transform(X_test)"
   ]
  },
  {
   "cell_type": "code",
   "execution_count": 154,
   "id": "32157a9a-1ce1-46a9-a8c9-898b63d06e9e",
   "metadata": {},
   "outputs": [],
   "source": [
    "input_layer = Input(shape=(features.shape[1],))\n",
    "l1 = Dense(100, activation='relu')(input_layer)\n",
    "l2 = Dense(50, activation='relu')(l1)\n",
    "l3 = Dense(25, activation='relu')(l2)\n",
    "output = Dense(1)(l3)"
   ]
  },
  {
   "cell_type": "code",
   "execution_count": 155,
   "id": "911b5d71-f873-4320-8fe4-84f5d54503e9",
   "metadata": {},
   "outputs": [],
   "source": [
    "model = Model(inputs=input_layer, outputs=output)\n",
    "model.compile(loss=\"mean_absolute_error\" , optimizer=\"adam\", metrics=[\"mean_absolute_error\"])"
   ]
  },
  {
   "cell_type": "code",
   "execution_count": 156,
   "id": "7f59a357-c0da-4b7c-831c-8a99d18418af",
   "metadata": {},
   "outputs": [
    {
     "name": "stdout",
     "output_type": "stream",
     "text": [
      "Model: \"model_5\"\n",
      "_________________________________________________________________\n",
      " Layer (type)                Output Shape              Param #   \n",
      "=================================================================\n",
      " input_6 (InputLayer)        [(None, 10)]              0         \n",
      "                                                                 \n",
      " dense_35 (Dense)            (None, 100)               1100      \n",
      "                                                                 \n",
      " dense_36 (Dense)            (None, 50)                5050      \n",
      "                                                                 \n",
      " dense_37 (Dense)            (None, 25)                1275      \n",
      "                                                                 \n",
      " dense_38 (Dense)            (None, 1)                 26        \n",
      "                                                                 \n",
      "=================================================================\n",
      "Total params: 7,451\n",
      "Trainable params: 7,451\n",
      "Non-trainable params: 0\n",
      "_________________________________________________________________\n",
      "None\n"
     ]
    }
   ],
   "source": [
    "print(model.summary())"
   ]
  },
  {
   "cell_type": "code",
   "execution_count": null,
   "id": "cc3aca8d-84a4-4b81-9fde-924f1a523c08",
   "metadata": {},
   "outputs": [
    {
     "name": "stdout",
     "output_type": "stream",
     "text": [
      "Epoch 1/20\n",
      "16183/16183 [==============================] - 27s 2ms/step - loss: 533.5164 - mean_absolute_error: 533.5164 - val_loss: 412.5744 - val_mean_absolute_error: 412.5744\n",
      "Epoch 2/20\n",
      "16183/16183 [==============================] - 25s 2ms/step - loss: 389.5643 - mean_absolute_error: 389.5643 - val_loss: 342.7712 - val_mean_absolute_error: 342.7712\n",
      "Epoch 3/20\n",
      "16183/16183 [==============================] - 24s 2ms/step - loss: 287.5555 - mean_absolute_error: 287.5555 - val_loss: 198.6246 - val_mean_absolute_error: 198.6246\n",
      "Epoch 4/20\n",
      "16183/16183 [==============================] - 24s 1ms/step - loss: 181.3473 - mean_absolute_error: 181.3473 - val_loss: 163.0933 - val_mean_absolute_error: 163.0933\n",
      "Epoch 5/20\n",
      "16183/16183 [==============================] - 25s 2ms/step - loss: 156.6439 - mean_absolute_error: 156.6439 - val_loss: 133.6365 - val_mean_absolute_error: 133.6365\n",
      "Epoch 6/20\n",
      "16183/16183 [==============================] - 24s 1ms/step - loss: 135.8640 - mean_absolute_error: 135.8640 - val_loss: 111.7279 - val_mean_absolute_error: 111.7279\n",
      "Epoch 7/20\n",
      "16183/16183 [==============================] - 25s 2ms/step - loss: 118.8169 - mean_absolute_error: 118.8169 - val_loss: 163.7648 - val_mean_absolute_error: 163.7648\n",
      "Epoch 8/20\n",
      "16183/16183 [==============================] - 25s 2ms/step - loss: 110.1046 - mean_absolute_error: 110.1046 - val_loss: 119.4061 - val_mean_absolute_error: 119.4061\n",
      "Epoch 9/20\n",
      "16183/16183 [==============================] - 25s 2ms/step - loss: 101.4816 - mean_absolute_error: 101.4816 - val_loss: 76.8473 - val_mean_absolute_error: 76.8473\n",
      "Epoch 10/20\n",
      "16183/16183 [==============================] - 26s 2ms/step - loss: 97.0952 - mean_absolute_error: 97.0952 - val_loss: 92.7866 - val_mean_absolute_error: 92.7866\n",
      "Epoch 11/20\n",
      "16183/16183 [==============================] - 25s 2ms/step - loss: 91.0786 - mean_absolute_error: 91.0786 - val_loss: 63.1379 - val_mean_absolute_error: 63.1379\n",
      "Epoch 12/20\n",
      "16183/16183 [==============================] - 25s 2ms/step - loss: 87.3456 - mean_absolute_error: 87.3456 - val_loss: 72.7077 - val_mean_absolute_error: 72.7077\n",
      "Epoch 13/20\n",
      "16183/16183 [==============================] - 25s 2ms/step - loss: 84.1087 - mean_absolute_error: 84.1087 - val_loss: 157.0452 - val_mean_absolute_error: 157.0452\n",
      "Epoch 14/20\n",
      "16183/16183 [==============================] - 24s 1ms/step - loss: 82.0792 - mean_absolute_error: 82.0792 - val_loss: 117.3564 - val_mean_absolute_error: 117.3564\n",
      "Epoch 15/20\n",
      "16183/16183 [==============================] - 25s 2ms/step - loss: 78.2385 - mean_absolute_error: 78.2385 - val_loss: 77.8509 - val_mean_absolute_error: 77.8509\n",
      "Epoch 16/20\n",
      "16183/16183 [==============================] - 24s 1ms/step - loss: 75.9833 - mean_absolute_error: 75.9833 - val_loss: 68.8174 - val_mean_absolute_error: 68.8174\n",
      "Epoch 17/20\n",
      "16183/16183 [==============================] - 24s 1ms/step - loss: 74.5678 - mean_absolute_error: 74.5678 - val_loss: 62.2413 - val_mean_absolute_error: 62.2413\n",
      "Epoch 18/20\n",
      "16183/16183 [==============================] - 24s 1ms/step - loss: 72.9432 - mean_absolute_error: 72.9432 - val_loss: 50.4586 - val_mean_absolute_error: 50.4586\n",
      "Epoch 19/20\n",
      " 5312/16183 [========>.....................] - ETA: 14s - loss: 68.7185 - mean_absolute_error: 68.7185"
     ]
    }
   ],
   "source": [
    "history = model.fit(X_train, y_train, batch_size=2, epochs=20, verbose=1, validation_split=0.2)"
   ]
  },
  {
   "cell_type": "code",
   "execution_count": 136,
   "id": "88e5ccfe-4a5e-43b5-bb8a-8b1e544eb997",
   "metadata": {},
   "outputs": [
    {
     "name": "stdout",
     "output_type": "stream",
     "text": [
      "1265/1265 [==============================] - 1s 949us/step\n",
      "57.05324994495567\n",
      "422/422 [==============================] - 0s 913us/step\n",
      "55.55362320681734\n"
     ]
    }
   ],
   "source": [
    "pred_train = model.predict(X_train)\n",
    "print(mean_absolute_error(y_train,pred_train))\n",
    "\n",
    "pred = model.predict(X_test)\n",
    "print(mean_absolute_error(y_test,pred))"
   ]
  },
  {
   "cell_type": "code",
   "execution_count": null,
   "id": "fbe60827-f64e-40d4-ae1d-42d2cc02356e",
   "metadata": {},
   "outputs": [],
   "source": []
  }
 ],
 "metadata": {
  "kernelspec": {
   "display_name": "Python (dev)",
   "language": "python",
   "name": "dev"
  },
  "language_info": {
   "codemirror_mode": {
    "name": "ipython",
    "version": 3
   },
   "file_extension": ".py",
   "mimetype": "text/x-python",
   "name": "python",
   "nbconvert_exporter": "python",
   "pygments_lexer": "ipython3",
   "version": "3.7.11"
  }
 },
 "nbformat": 4,
 "nbformat_minor": 5
}
